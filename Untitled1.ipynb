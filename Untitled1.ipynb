{
 "cells": [
  {
   "cell_type": "code",
   "execution_count": 2,
   "id": "c8d94258-18f8-440e-81f7-67b12edd2c62",
   "metadata": {},
   "outputs": [
    {
     "name": "stdout",
     "output_type": "stream",
     "text": [
      "Initialized empty Git repository in /home/makeen/makeenv2_repo/_Working-Space/malikaalnaabi/.git/\n"
     ]
    }
   ],
   "source": [
    "%%bash \n",
    "git init"
   ]
  },
  {
   "cell_type": "code",
   "execution_count": 3,
   "id": "78b8fca4-3467-42b6-a6c9-5238906c7080",
   "metadata": {},
   "outputs": [
    {
     "data": {
      "text/plain": [
       "'/home/makeen/makeenv2_repo/_Working-Space/malikaalnaabi'"
      ]
     },
     "execution_count": 3,
     "metadata": {},
     "output_type": "execute_result"
    }
   ],
   "source": [
    "import os\n",
    "os.getcwd()\n"
   ]
  },
  {
   "cell_type": "code",
   "execution_count": null,
   "id": "6856da8c-aefb-4180-a05d-45dcc823a0d9",
   "metadata": {},
   "outputs": [],
   "source": []
  },
  {
   "cell_type": "code",
   "execution_count": null,
   "id": "5554cc35-3e74-4b96-a349-4214b60ae142",
   "metadata": {},
   "outputs": [],
   "source": []
  },
  {
   "cell_type": "code",
   "execution_count": null,
   "id": "7005aaa8-3432-4fd7-bf0d-2727577535ed",
   "metadata": {},
   "outputs": [],
   "source": []
  },
  {
   "cell_type": "code",
   "execution_count": null,
   "id": "36aff029-b48f-468d-b63b-219ed934dff7",
   "metadata": {},
   "outputs": [],
   "source": []
  },
  {
   "cell_type": "code",
   "execution_count": null,
   "id": "4a8fc4b0-dd05-419e-9ce6-3e2d237c95f1",
   "metadata": {},
   "outputs": [],
   "source": []
  }
 ],
 "metadata": {
  "kernelspec": {
   "display_name": "(00) Python 3.9 - ML",
   "language": "python",
   "name": "py39_ml"
  },
  "language_info": {
   "codemirror_mode": {
    "name": "ipython",
    "version": 3
   },
   "file_extension": ".py",
   "mimetype": "text/x-python",
   "name": "python",
   "nbconvert_exporter": "python",
   "pygments_lexer": "ipython3",
   "version": "3.9.23"
  }
 },
 "nbformat": 4,
 "nbformat_minor": 5
}
