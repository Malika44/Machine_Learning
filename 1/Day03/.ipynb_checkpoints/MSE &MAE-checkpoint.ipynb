{
 "cells": [
  {
   "cell_type": "code",
   "execution_count": 8,
   "id": "8a00a1ae-215c-44a6-aa85-5f7144c5a343",
   "metadata": {},
   "outputs": [
    {
     "name": "stdout",
     "output_type": "stream",
     "text": [
      "MAE: 16.333333333333332\n",
      "MSE: 750.5555555555555\n"
     ]
    }
   ],
   "source": [
    "import numpy as np \n",
    "import pandas as pd\n",
    "from sklearn.metrics import mean_absolute_error, mean_squared_error\n",
    "y = [10, 50, 32, 47, 20, 5, 100, 62 ,10]\n",
    "y_hat = [10, 1, 5,  47, 8, 5, 100, 3, 10]\n",
    "mae = mean_absolute_error(y, y_hat)\n",
    "mse = mean_squared_error(y, y_hat)\n",
    "\n",
    "print(\"MAE:\", mae)\n",
    "print(\"MSE:\", mse)"
   ]
  },
  {
   "cell_type": "code",
   "execution_count": 12,
   "id": "82185ca2-5665-4965-a655-3d19e4e1e638",
   "metadata": {},
   "outputs": [
    {
     "name": "stdout",
     "output_type": "stream",
     "text": [
      "MAE: 1126.3333333333333\n",
      "MSE: 11089650.555555556\n"
     ]
    }
   ],
   "source": [
    "#adding outliers to check the sensitivity of MSE to outliers good to test if the MSE higher the worse the model \n",
    "y = [10, 50, 32, 47, 20, 5, 100, 62 ,10000]\n",
    "y_hat = [10, 1, 5,  47, 8, 5, 100, 3, 10]\n",
    "mae = mean_absolute_error(y, y_hat)\n",
    "mse = mean_squared_error(y, y_hat)\n",
    "\n",
    "print(\"MAE:\", mae)\n",
    "print(\"MSE:\", mse)"
   ]
  },
  {
   "cell_type": "code",
   "execution_count": null,
   "id": "e9a8b33e-cd25-41b5-bdfc-08e5d3d0cc7e",
   "metadata": {},
   "outputs": [],
   "source": []
  }
 ],
 "metadata": {
  "kernelspec": {
   "display_name": "(00) Python 3.9 - ML",
   "language": "python",
   "name": "py39_ml"
  },
  "language_info": {
   "codemirror_mode": {
    "name": "ipython",
    "version": 3
   },
   "file_extension": ".py",
   "mimetype": "text/x-python",
   "name": "python",
   "nbconvert_exporter": "python",
   "pygments_lexer": "ipython3",
   "version": "3.9.23"
  }
 },
 "nbformat": 4,
 "nbformat_minor": 5
}
