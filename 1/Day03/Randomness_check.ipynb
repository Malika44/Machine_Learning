{
 "cells": [
  {
   "cell_type": "code",
   "execution_count": 5,
   "id": "c2c3376c",
   "metadata": {},
   "outputs": [],
   "source": [
    "import numpy as np\n",
    "from sklearn.linear_model import LinearRegression, SGDRegressor\n",
    "import warnings\n",
    "warnings.filterwarnings(\"ignore\", category=FutureWarning)"
   ]
  },
  {
   "cell_type": "code",
   "execution_count": 6,
   "id": "65b26ad6",
   "metadata": {},
   "outputs": [],
   "source": [
    "X = np.random.randint(0, 100, size=1000).astype(float).reshape((-1, 1))\n",
    "y = X * 0.54 \n",
    "y = y + 98.124"
   ]
  },
  {
   "cell_type": "code",
   "execution_count": 3,
   "id": "a26be064",
   "metadata": {},
   "outputs": [
    {
     "data": {
      "text/plain": [
       "((1000, 1), (1000, 1))"
      ]
     },
     "execution_count": 3,
     "metadata": {},
     "output_type": "execute_result"
    }
   ],
   "source": [
    "X.shape, y.shape "
   ]
  },
  {
   "cell_type": "code",
   "execution_count": null,
   "id": "0a04f941",
   "metadata": {},
   "outputs": [],
   "source": []
  },
  {
   "cell_type": "code",
   "execution_count": 7,
   "id": "488dfde3",
   "metadata": {},
   "outputs": [
    {
     "name": "stderr",
     "output_type": "stream",
     "text": [
      "/opt/conda/envs/py39_ml/lib/python3.9/site-packages/sklearn/utils/validation.py:1408: DataConversionWarning: A column-vector y was passed when a 1d array was expected. Please change the shape of y to (n_samples, ), for example using ravel().\n",
      "  y = column_or_1d(y, warn=True)\n",
      "/opt/conda/envs/py39_ml/lib/python3.9/site-packages/sklearn/linear_model/_stochastic_gradient.py:1608: ConvergenceWarning: Maximum number of iteration reached before convergence. Consider increasing max_iter to improve the fit.\n",
      "  warnings.warn(\n",
      "/opt/conda/envs/py39_ml/lib/python3.9/site-packages/sklearn/utils/validation.py:1408: DataConversionWarning: A column-vector y was passed when a 1d array was expected. Please change the shape of y to (n_samples, ), for example using ravel().\n",
      "  y = column_or_1d(y, warn=True)\n",
      "/opt/conda/envs/py39_ml/lib/python3.9/site-packages/sklearn/linear_model/_stochastic_gradient.py:1608: ConvergenceWarning: Maximum number of iteration reached before convergence. Consider increasing max_iter to improve the fit.\n",
      "  warnings.warn(\n",
      "/opt/conda/envs/py39_ml/lib/python3.9/site-packages/sklearn/utils/validation.py:1408: DataConversionWarning: A column-vector y was passed when a 1d array was expected. Please change the shape of y to (n_samples, ), for example using ravel().\n",
      "  y = column_or_1d(y, warn=True)\n",
      "/opt/conda/envs/py39_ml/lib/python3.9/site-packages/sklearn/linear_model/_stochastic_gradient.py:1608: ConvergenceWarning: Maximum number of iteration reached before convergence. Consider increasing max_iter to improve the fit.\n",
      "  warnings.warn(\n",
      "/opt/conda/envs/py39_ml/lib/python3.9/site-packages/sklearn/utils/validation.py:1408: DataConversionWarning: A column-vector y was passed when a 1d array was expected. Please change the shape of y to (n_samples, ), for example using ravel().\n",
      "  y = column_or_1d(y, warn=True)\n",
      "/opt/conda/envs/py39_ml/lib/python3.9/site-packages/sklearn/linear_model/_stochastic_gradient.py:1608: ConvergenceWarning: Maximum number of iteration reached before convergence. Consider increasing max_iter to improve the fit.\n",
      "  warnings.warn(\n",
      "/opt/conda/envs/py39_ml/lib/python3.9/site-packages/sklearn/utils/validation.py:1408: DataConversionWarning: A column-vector y was passed when a 1d array was expected. Please change the shape of y to (n_samples, ), for example using ravel().\n",
      "  y = column_or_1d(y, warn=True)\n",
      "/opt/conda/envs/py39_ml/lib/python3.9/site-packages/sklearn/linear_model/_stochastic_gradient.py:1608: ConvergenceWarning: Maximum number of iteration reached before convergence. Consider increasing max_iter to improve the fit.\n",
      "  warnings.warn(\n",
      "/opt/conda/envs/py39_ml/lib/python3.9/site-packages/sklearn/utils/validation.py:1408: DataConversionWarning: A column-vector y was passed when a 1d array was expected. Please change the shape of y to (n_samples, ), for example using ravel().\n",
      "  y = column_or_1d(y, warn=True)\n"
     ]
    },
    {
     "name": "stdout",
     "output_type": "stream",
     "text": [
      "0: lr: (array([0.54]), 98.12399999999997) - lr_gd: (0.5217319931038612, 99.29615972412553)\n",
      "1: lr: (array([0.54]), 98.12399999999997) - lr_gd: (0.4206846764977948, 107.01146204236011)\n",
      "2: lr: (array([0.54]), 98.12399999999997) - lr_gd: (0.7122095544100764, 86.84746754646436)\n",
      "3: lr: (array([0.54]), 98.12399999999997) - lr_gd: (0.5253074610854781, 98.87293975197949)\n",
      "4: lr: (array([0.54]), 98.12399999999997) - lr_gd: (0.5600973386098383, 96.73273339926614)\n",
      "5: lr: (array([0.54]), 98.12399999999997) - lr_gd: (0.5349280153263718, 98.46464674142547)\n"
     ]
    },
    {
     "name": "stderr",
     "output_type": "stream",
     "text": [
      "/opt/conda/envs/py39_ml/lib/python3.9/site-packages/sklearn/linear_model/_stochastic_gradient.py:1608: ConvergenceWarning: Maximum number of iteration reached before convergence. Consider increasing max_iter to improve the fit.\n",
      "  warnings.warn(\n",
      "/opt/conda/envs/py39_ml/lib/python3.9/site-packages/sklearn/utils/validation.py:1408: DataConversionWarning: A column-vector y was passed when a 1d array was expected. Please change the shape of y to (n_samples, ), for example using ravel().\n",
      "  y = column_or_1d(y, warn=True)\n",
      "/opt/conda/envs/py39_ml/lib/python3.9/site-packages/sklearn/linear_model/_stochastic_gradient.py:1608: ConvergenceWarning: Maximum number of iteration reached before convergence. Consider increasing max_iter to improve the fit.\n",
      "  warnings.warn(\n",
      "/opt/conda/envs/py39_ml/lib/python3.9/site-packages/sklearn/utils/validation.py:1408: DataConversionWarning: A column-vector y was passed when a 1d array was expected. Please change the shape of y to (n_samples, ), for example using ravel().\n",
      "  y = column_or_1d(y, warn=True)\n",
      "/opt/conda/envs/py39_ml/lib/python3.9/site-packages/sklearn/linear_model/_stochastic_gradient.py:1608: ConvergenceWarning: Maximum number of iteration reached before convergence. Consider increasing max_iter to improve the fit.\n",
      "  warnings.warn(\n",
      "/opt/conda/envs/py39_ml/lib/python3.9/site-packages/sklearn/utils/validation.py:1408: DataConversionWarning: A column-vector y was passed when a 1d array was expected. Please change the shape of y to (n_samples, ), for example using ravel().\n",
      "  y = column_or_1d(y, warn=True)\n",
      "/opt/conda/envs/py39_ml/lib/python3.9/site-packages/sklearn/linear_model/_stochastic_gradient.py:1608: ConvergenceWarning: Maximum number of iteration reached before convergence. Consider increasing max_iter to improve the fit.\n",
      "  warnings.warn(\n",
      "/opt/conda/envs/py39_ml/lib/python3.9/site-packages/sklearn/utils/validation.py:1408: DataConversionWarning: A column-vector y was passed when a 1d array was expected. Please change the shape of y to (n_samples, ), for example using ravel().\n",
      "  y = column_or_1d(y, warn=True)\n",
      "/opt/conda/envs/py39_ml/lib/python3.9/site-packages/sklearn/linear_model/_stochastic_gradient.py:1608: ConvergenceWarning: Maximum number of iteration reached before convergence. Consider increasing max_iter to improve the fit.\n",
      "  warnings.warn(\n",
      "/opt/conda/envs/py39_ml/lib/python3.9/site-packages/sklearn/utils/validation.py:1408: DataConversionWarning: A column-vector y was passed when a 1d array was expected. Please change the shape of y to (n_samples, ), for example using ravel().\n",
      "  y = column_or_1d(y, warn=True)\n"
     ]
    },
    {
     "name": "stdout",
     "output_type": "stream",
     "text": [
      "6: lr: (array([0.54]), 98.12399999999997) - lr_gd: (0.5499845754101778, 97.66198391960087)\n",
      "7: lr: (array([0.54]), 98.12399999999997) - lr_gd: (0.5094855223987672, 100.27280899583644)\n",
      "8: lr: (array([0.54]), 98.12399999999997) - lr_gd: (0.5168387075411764, 99.7841948144765)\n",
      "9: lr: (array([0.54]), 98.12399999999997) - lr_gd: (0.3437569484027322, 110.18877974928283)\n",
      "10: lr: (array([0.54]), 98.12399999999997) - lr_gd: (0.5339879961693088, 98.51231073679655)\n"
     ]
    },
    {
     "name": "stderr",
     "output_type": "stream",
     "text": [
      "/opt/conda/envs/py39_ml/lib/python3.9/site-packages/sklearn/linear_model/_stochastic_gradient.py:1608: ConvergenceWarning: Maximum number of iteration reached before convergence. Consider increasing max_iter to improve the fit.\n",
      "  warnings.warn(\n",
      "/opt/conda/envs/py39_ml/lib/python3.9/site-packages/sklearn/utils/validation.py:1408: DataConversionWarning: A column-vector y was passed when a 1d array was expected. Please change the shape of y to (n_samples, ), for example using ravel().\n",
      "  y = column_or_1d(y, warn=True)\n",
      "/opt/conda/envs/py39_ml/lib/python3.9/site-packages/sklearn/linear_model/_stochastic_gradient.py:1608: ConvergenceWarning: Maximum number of iteration reached before convergence. Consider increasing max_iter to improve the fit.\n",
      "  warnings.warn(\n",
      "/opt/conda/envs/py39_ml/lib/python3.9/site-packages/sklearn/utils/validation.py:1408: DataConversionWarning: A column-vector y was passed when a 1d array was expected. Please change the shape of y to (n_samples, ), for example using ravel().\n",
      "  y = column_or_1d(y, warn=True)\n",
      "/opt/conda/envs/py39_ml/lib/python3.9/site-packages/sklearn/linear_model/_stochastic_gradient.py:1608: ConvergenceWarning: Maximum number of iteration reached before convergence. Consider increasing max_iter to improve the fit.\n",
      "  warnings.warn(\n",
      "/opt/conda/envs/py39_ml/lib/python3.9/site-packages/sklearn/utils/validation.py:1408: DataConversionWarning: A column-vector y was passed when a 1d array was expected. Please change the shape of y to (n_samples, ), for example using ravel().\n",
      "  y = column_or_1d(y, warn=True)\n",
      "/opt/conda/envs/py39_ml/lib/python3.9/site-packages/sklearn/linear_model/_stochastic_gradient.py:1608: ConvergenceWarning: Maximum number of iteration reached before convergence. Consider increasing max_iter to improve the fit.\n",
      "  warnings.warn(\n",
      "/opt/conda/envs/py39_ml/lib/python3.9/site-packages/sklearn/utils/validation.py:1408: DataConversionWarning: A column-vector y was passed when a 1d array was expected. Please change the shape of y to (n_samples, ), for example using ravel().\n",
      "  y = column_or_1d(y, warn=True)\n",
      "/opt/conda/envs/py39_ml/lib/python3.9/site-packages/sklearn/linear_model/_stochastic_gradient.py:1608: ConvergenceWarning: Maximum number of iteration reached before convergence. Consider increasing max_iter to improve the fit.\n",
      "  warnings.warn(\n",
      "/opt/conda/envs/py39_ml/lib/python3.9/site-packages/sklearn/utils/validation.py:1408: DataConversionWarning: A column-vector y was passed when a 1d array was expected. Please change the shape of y to (n_samples, ), for example using ravel().\n",
      "  y = column_or_1d(y, warn=True)\n"
     ]
    },
    {
     "name": "stdout",
     "output_type": "stream",
     "text": [
      "11: lr: (array([0.54]), 98.12399999999997) - lr_gd: (0.5466175671404978, 97.60378837774077)\n",
      "12: lr: (array([0.54]), 98.12399999999997) - lr_gd: (0.579414074811141, 96.04583396051672)\n",
      "13: lr: (array([0.54]), 98.12399999999997) - lr_gd: (0.5250278806304406, 99.02550055834305)\n",
      "14: lr: (array([0.54]), 98.12399999999997) - lr_gd: (0.482296281701333, 102.54095507465401)\n",
      "15: lr: (array([0.54]), 98.12399999999997) - lr_gd: (0.5814043819413902, 95.04944527918623)\n"
     ]
    },
    {
     "name": "stderr",
     "output_type": "stream",
     "text": [
      "/opt/conda/envs/py39_ml/lib/python3.9/site-packages/sklearn/linear_model/_stochastic_gradient.py:1608: ConvergenceWarning: Maximum number of iteration reached before convergence. Consider increasing max_iter to improve the fit.\n",
      "  warnings.warn(\n",
      "/opt/conda/envs/py39_ml/lib/python3.9/site-packages/sklearn/utils/validation.py:1408: DataConversionWarning: A column-vector y was passed when a 1d array was expected. Please change the shape of y to (n_samples, ), for example using ravel().\n",
      "  y = column_or_1d(y, warn=True)\n",
      "/opt/conda/envs/py39_ml/lib/python3.9/site-packages/sklearn/linear_model/_stochastic_gradient.py:1608: ConvergenceWarning: Maximum number of iteration reached before convergence. Consider increasing max_iter to improve the fit.\n",
      "  warnings.warn(\n",
      "/opt/conda/envs/py39_ml/lib/python3.9/site-packages/sklearn/utils/validation.py:1408: DataConversionWarning: A column-vector y was passed when a 1d array was expected. Please change the shape of y to (n_samples, ), for example using ravel().\n",
      "  y = column_or_1d(y, warn=True)\n",
      "/opt/conda/envs/py39_ml/lib/python3.9/site-packages/sklearn/linear_model/_stochastic_gradient.py:1608: ConvergenceWarning: Maximum number of iteration reached before convergence. Consider increasing max_iter to improve the fit.\n",
      "  warnings.warn(\n",
      "/opt/conda/envs/py39_ml/lib/python3.9/site-packages/sklearn/utils/validation.py:1408: DataConversionWarning: A column-vector y was passed when a 1d array was expected. Please change the shape of y to (n_samples, ), for example using ravel().\n",
      "  y = column_or_1d(y, warn=True)\n",
      "/opt/conda/envs/py39_ml/lib/python3.9/site-packages/sklearn/linear_model/_stochastic_gradient.py:1608: ConvergenceWarning: Maximum number of iteration reached before convergence. Consider increasing max_iter to improve the fit.\n",
      "  warnings.warn(\n",
      "/opt/conda/envs/py39_ml/lib/python3.9/site-packages/sklearn/utils/validation.py:1408: DataConversionWarning: A column-vector y was passed when a 1d array was expected. Please change the shape of y to (n_samples, ), for example using ravel().\n",
      "  y = column_or_1d(y, warn=True)\n",
      "/opt/conda/envs/py39_ml/lib/python3.9/site-packages/sklearn/linear_model/_stochastic_gradient.py:1608: ConvergenceWarning: Maximum number of iteration reached before convergence. Consider increasing max_iter to improve the fit.\n",
      "  warnings.warn(\n",
      "/opt/conda/envs/py39_ml/lib/python3.9/site-packages/sklearn/utils/validation.py:1408: DataConversionWarning: A column-vector y was passed when a 1d array was expected. Please change the shape of y to (n_samples, ), for example using ravel().\n",
      "  y = column_or_1d(y, warn=True)\n"
     ]
    },
    {
     "name": "stdout",
     "output_type": "stream",
     "text": [
      "16: lr: (array([0.54]), 98.12399999999997) - lr_gd: (0.49653368179072255, 101.76600618605816)\n",
      "17: lr: (array([0.54]), 98.12399999999997) - lr_gd: (0.48791876261923495, 101.38351224201803)\n",
      "18: lr: (array([0.54]), 98.12399999999997) - lr_gd: (0.4052454858777302, 108.33708577448022)\n",
      "19: lr: (array([0.54]), 98.12399999999997) - lr_gd: (0.502395535023719, 100.03121417697396)\n",
      "20: lr: (array([0.54]), 98.12399999999997) - lr_gd: (0.5323452295159166, 98.69687829299669)\n"
     ]
    },
    {
     "name": "stderr",
     "output_type": "stream",
     "text": [
      "/opt/conda/envs/py39_ml/lib/python3.9/site-packages/sklearn/linear_model/_stochastic_gradient.py:1608: ConvergenceWarning: Maximum number of iteration reached before convergence. Consider increasing max_iter to improve the fit.\n",
      "  warnings.warn(\n",
      "/opt/conda/envs/py39_ml/lib/python3.9/site-packages/sklearn/utils/validation.py:1408: DataConversionWarning: A column-vector y was passed when a 1d array was expected. Please change the shape of y to (n_samples, ), for example using ravel().\n",
      "  y = column_or_1d(y, warn=True)\n",
      "/opt/conda/envs/py39_ml/lib/python3.9/site-packages/sklearn/linear_model/_stochastic_gradient.py:1608: ConvergenceWarning: Maximum number of iteration reached before convergence. Consider increasing max_iter to improve the fit.\n",
      "  warnings.warn(\n",
      "/opt/conda/envs/py39_ml/lib/python3.9/site-packages/sklearn/utils/validation.py:1408: DataConversionWarning: A column-vector y was passed when a 1d array was expected. Please change the shape of y to (n_samples, ), for example using ravel().\n",
      "  y = column_or_1d(y, warn=True)\n",
      "/opt/conda/envs/py39_ml/lib/python3.9/site-packages/sklearn/linear_model/_stochastic_gradient.py:1608: ConvergenceWarning: Maximum number of iteration reached before convergence. Consider increasing max_iter to improve the fit.\n",
      "  warnings.warn(\n",
      "/opt/conda/envs/py39_ml/lib/python3.9/site-packages/sklearn/utils/validation.py:1408: DataConversionWarning: A column-vector y was passed when a 1d array was expected. Please change the shape of y to (n_samples, ), for example using ravel().\n",
      "  y = column_or_1d(y, warn=True)\n",
      "/opt/conda/envs/py39_ml/lib/python3.9/site-packages/sklearn/linear_model/_stochastic_gradient.py:1608: ConvergenceWarning: Maximum number of iteration reached before convergence. Consider increasing max_iter to improve the fit.\n",
      "  warnings.warn(\n",
      "/opt/conda/envs/py39_ml/lib/python3.9/site-packages/sklearn/utils/validation.py:1408: DataConversionWarning: A column-vector y was passed when a 1d array was expected. Please change the shape of y to (n_samples, ), for example using ravel().\n",
      "  y = column_or_1d(y, warn=True)\n",
      "/opt/conda/envs/py39_ml/lib/python3.9/site-packages/sklearn/linear_model/_stochastic_gradient.py:1608: ConvergenceWarning: Maximum number of iteration reached before convergence. Consider increasing max_iter to improve the fit.\n",
      "  warnings.warn(\n",
      "/opt/conda/envs/py39_ml/lib/python3.9/site-packages/sklearn/utils/validation.py:1408: DataConversionWarning: A column-vector y was passed when a 1d array was expected. Please change the shape of y to (n_samples, ), for example using ravel().\n",
      "  y = column_or_1d(y, warn=True)\n"
     ]
    },
    {
     "name": "stdout",
     "output_type": "stream",
     "text": [
      "21: lr: (array([0.54]), 98.12399999999997) - lr_gd: (0.6120742020071053, 93.03388839096236)\n",
      "22: lr: (array([0.54]), 98.12399999999997) - lr_gd: (0.5264715471657154, 99.09338889738189)\n",
      "23: lr: (array([0.54]), 98.12399999999997) - lr_gd: (0.44914547406002453, 103.80024896824128)\n",
      "24: lr: (array([0.54]), 98.12399999999997) - lr_gd: (0.42829917107075416, 105.75121340198362)\n",
      "25: lr: (array([0.54]), 98.12399999999997) - lr_gd: (0.5450582381666135, 97.79637507291213)\n"
     ]
    },
    {
     "name": "stderr",
     "output_type": "stream",
     "text": [
      "/opt/conda/envs/py39_ml/lib/python3.9/site-packages/sklearn/utils/validation.py:1408: DataConversionWarning: A column-vector y was passed when a 1d array was expected. Please change the shape of y to (n_samples, ), for example using ravel().\n",
      "  y = column_or_1d(y, warn=True)\n",
      "/opt/conda/envs/py39_ml/lib/python3.9/site-packages/sklearn/linear_model/_stochastic_gradient.py:1608: ConvergenceWarning: Maximum number of iteration reached before convergence. Consider increasing max_iter to improve the fit.\n",
      "  warnings.warn(\n",
      "/opt/conda/envs/py39_ml/lib/python3.9/site-packages/sklearn/utils/validation.py:1408: DataConversionWarning: A column-vector y was passed when a 1d array was expected. Please change the shape of y to (n_samples, ), for example using ravel().\n",
      "  y = column_or_1d(y, warn=True)\n",
      "/opt/conda/envs/py39_ml/lib/python3.9/site-packages/sklearn/linear_model/_stochastic_gradient.py:1608: ConvergenceWarning: Maximum number of iteration reached before convergence. Consider increasing max_iter to improve the fit.\n",
      "  warnings.warn(\n",
      "/opt/conda/envs/py39_ml/lib/python3.9/site-packages/sklearn/utils/validation.py:1408: DataConversionWarning: A column-vector y was passed when a 1d array was expected. Please change the shape of y to (n_samples, ), for example using ravel().\n",
      "  y = column_or_1d(y, warn=True)\n",
      "/opt/conda/envs/py39_ml/lib/python3.9/site-packages/sklearn/linear_model/_stochastic_gradient.py:1608: ConvergenceWarning: Maximum number of iteration reached before convergence. Consider increasing max_iter to improve the fit.\n",
      "  warnings.warn(\n",
      "/opt/conda/envs/py39_ml/lib/python3.9/site-packages/sklearn/utils/validation.py:1408: DataConversionWarning: A column-vector y was passed when a 1d array was expected. Please change the shape of y to (n_samples, ), for example using ravel().\n",
      "  y = column_or_1d(y, warn=True)\n",
      "/opt/conda/envs/py39_ml/lib/python3.9/site-packages/sklearn/utils/validation.py:1408: DataConversionWarning: A column-vector y was passed when a 1d array was expected. Please change the shape of y to (n_samples, ), for example using ravel().\n",
      "  y = column_or_1d(y, warn=True)\n"
     ]
    },
    {
     "name": "stdout",
     "output_type": "stream",
     "text": [
      "26: lr: (array([0.54]), 98.12399999999997) - lr_gd: (0.5648892838946284, 96.36061039037871)\n",
      "27: lr: (array([0.54]), 98.12399999999997) - lr_gd: (0.5620160007529935, 96.948577175241)\n",
      "28: lr: (array([0.54]), 98.12399999999997) - lr_gd: (0.47652235277440186, 102.21705945027452)\n",
      "29: lr: (array([0.54]), 98.12399999999997) - lr_gd: (0.5345575656938416, 98.47752825083063)\n",
      "30: lr: (array([0.54]), 98.12399999999997) - lr_gd: (0.5448081699223051, 97.7977801359007)\n"
     ]
    },
    {
     "name": "stderr",
     "output_type": "stream",
     "text": [
      "/opt/conda/envs/py39_ml/lib/python3.9/site-packages/sklearn/linear_model/_stochastic_gradient.py:1608: ConvergenceWarning: Maximum number of iteration reached before convergence. Consider increasing max_iter to improve the fit.\n",
      "  warnings.warn(\n",
      "/opt/conda/envs/py39_ml/lib/python3.9/site-packages/sklearn/utils/validation.py:1408: DataConversionWarning: A column-vector y was passed when a 1d array was expected. Please change the shape of y to (n_samples, ), for example using ravel().\n",
      "  y = column_or_1d(y, warn=True)\n",
      "/opt/conda/envs/py39_ml/lib/python3.9/site-packages/sklearn/linear_model/_stochastic_gradient.py:1608: ConvergenceWarning: Maximum number of iteration reached before convergence. Consider increasing max_iter to improve the fit.\n",
      "  warnings.warn(\n",
      "/opt/conda/envs/py39_ml/lib/python3.9/site-packages/sklearn/utils/validation.py:1408: DataConversionWarning: A column-vector y was passed when a 1d array was expected. Please change the shape of y to (n_samples, ), for example using ravel().\n",
      "  y = column_or_1d(y, warn=True)\n",
      "/opt/conda/envs/py39_ml/lib/python3.9/site-packages/sklearn/utils/validation.py:1408: DataConversionWarning: A column-vector y was passed when a 1d array was expected. Please change the shape of y to (n_samples, ), for example using ravel().\n",
      "  y = column_or_1d(y, warn=True)\n",
      "/opt/conda/envs/py39_ml/lib/python3.9/site-packages/sklearn/linear_model/_stochastic_gradient.py:1608: ConvergenceWarning: Maximum number of iteration reached before convergence. Consider increasing max_iter to improve the fit.\n",
      "  warnings.warn(\n",
      "/opt/conda/envs/py39_ml/lib/python3.9/site-packages/sklearn/utils/validation.py:1408: DataConversionWarning: A column-vector y was passed when a 1d array was expected. Please change the shape of y to (n_samples, ), for example using ravel().\n",
      "  y = column_or_1d(y, warn=True)\n",
      "/opt/conda/envs/py39_ml/lib/python3.9/site-packages/sklearn/utils/validation.py:1408: DataConversionWarning: A column-vector y was passed when a 1d array was expected. Please change the shape of y to (n_samples, ), for example using ravel().\n",
      "  y = column_or_1d(y, warn=True)\n"
     ]
    },
    {
     "name": "stdout",
     "output_type": "stream",
     "text": [
      "31: lr: (array([0.54]), 98.12399999999997) - lr_gd: (0.5053369895717852, 99.99182532107676)\n",
      "32: lr: (array([0.54]), 98.12399999999997) - lr_gd: (0.5449780227676359, 97.8039242415657)\n",
      "33: lr: (array([0.54]), 98.12399999999997) - lr_gd: (0.7854458902478113, 86.72066758986163)\n",
      "34: lr: (array([0.54]), 98.12399999999997) - lr_gd: (0.5349528399708602, 98.44982039316588)\n",
      "35: lr: (array([0.54]), 98.12399999999997) - lr_gd: (0.261347244675457, 113.37156548082532)\n"
     ]
    },
    {
     "name": "stderr",
     "output_type": "stream",
     "text": [
      "/opt/conda/envs/py39_ml/lib/python3.9/site-packages/sklearn/linear_model/_stochastic_gradient.py:1608: ConvergenceWarning: Maximum number of iteration reached before convergence. Consider increasing max_iter to improve the fit.\n",
      "  warnings.warn(\n",
      "/opt/conda/envs/py39_ml/lib/python3.9/site-packages/sklearn/utils/validation.py:1408: DataConversionWarning: A column-vector y was passed when a 1d array was expected. Please change the shape of y to (n_samples, ), for example using ravel().\n",
      "  y = column_or_1d(y, warn=True)\n",
      "/opt/conda/envs/py39_ml/lib/python3.9/site-packages/sklearn/utils/validation.py:1408: DataConversionWarning: A column-vector y was passed when a 1d array was expected. Please change the shape of y to (n_samples, ), for example using ravel().\n",
      "  y = column_or_1d(y, warn=True)\n",
      "/opt/conda/envs/py39_ml/lib/python3.9/site-packages/sklearn/linear_model/_stochastic_gradient.py:1608: ConvergenceWarning: Maximum number of iteration reached before convergence. Consider increasing max_iter to improve the fit.\n",
      "  warnings.warn(\n",
      "/opt/conda/envs/py39_ml/lib/python3.9/site-packages/sklearn/utils/validation.py:1408: DataConversionWarning: A column-vector y was passed when a 1d array was expected. Please change the shape of y to (n_samples, ), for example using ravel().\n",
      "  y = column_or_1d(y, warn=True)\n",
      "/opt/conda/envs/py39_ml/lib/python3.9/site-packages/sklearn/linear_model/_stochastic_gradient.py:1608: ConvergenceWarning: Maximum number of iteration reached before convergence. Consider increasing max_iter to improve the fit.\n",
      "  warnings.warn(\n",
      "/opt/conda/envs/py39_ml/lib/python3.9/site-packages/sklearn/utils/validation.py:1408: DataConversionWarning: A column-vector y was passed when a 1d array was expected. Please change the shape of y to (n_samples, ), for example using ravel().\n",
      "  y = column_or_1d(y, warn=True)\n",
      "/opt/conda/envs/py39_ml/lib/python3.9/site-packages/sklearn/linear_model/_stochastic_gradient.py:1608: ConvergenceWarning: Maximum number of iteration reached before convergence. Consider increasing max_iter to improve the fit.\n",
      "  warnings.warn(\n",
      "/opt/conda/envs/py39_ml/lib/python3.9/site-packages/sklearn/utils/validation.py:1408: DataConversionWarning: A column-vector y was passed when a 1d array was expected. Please change the shape of y to (n_samples, ), for example using ravel().\n",
      "  y = column_or_1d(y, warn=True)\n"
     ]
    },
    {
     "name": "stdout",
     "output_type": "stream",
     "text": [
      "36: lr: (array([0.54]), 98.12399999999997) - lr_gd: (0.5450007320949263, 97.79659143060992)\n",
      "37: lr: (array([0.54]), 98.12399999999997) - lr_gd: (0.5048231018583185, 100.77039103839212)\n",
      "38: lr: (array([0.54]), 98.12399999999997) - lr_gd: (0.5458673050741203, 97.75021772015307)\n",
      "39: lr: (array([0.54]), 98.12399999999997) - lr_gd: (0.3602648671102396, 108.1060013379359)\n",
      "40: lr: (array([0.54]), 98.12399999999997) - lr_gd: (0.5457942338188913, 97.77913886451812)\n"
     ]
    },
    {
     "name": "stderr",
     "output_type": "stream",
     "text": [
      "/opt/conda/envs/py39_ml/lib/python3.9/site-packages/sklearn/linear_model/_stochastic_gradient.py:1608: ConvergenceWarning: Maximum number of iteration reached before convergence. Consider increasing max_iter to improve the fit.\n",
      "  warnings.warn(\n",
      "/opt/conda/envs/py39_ml/lib/python3.9/site-packages/sklearn/utils/validation.py:1408: DataConversionWarning: A column-vector y was passed when a 1d array was expected. Please change the shape of y to (n_samples, ), for example using ravel().\n",
      "  y = column_or_1d(y, warn=True)\n",
      "/opt/conda/envs/py39_ml/lib/python3.9/site-packages/sklearn/linear_model/_stochastic_gradient.py:1608: ConvergenceWarning: Maximum number of iteration reached before convergence. Consider increasing max_iter to improve the fit.\n",
      "  warnings.warn(\n",
      "/opt/conda/envs/py39_ml/lib/python3.9/site-packages/sklearn/utils/validation.py:1408: DataConversionWarning: A column-vector y was passed when a 1d array was expected. Please change the shape of y to (n_samples, ), for example using ravel().\n",
      "  y = column_or_1d(y, warn=True)\n",
      "/opt/conda/envs/py39_ml/lib/python3.9/site-packages/sklearn/linear_model/_stochastic_gradient.py:1608: ConvergenceWarning: Maximum number of iteration reached before convergence. Consider increasing max_iter to improve the fit.\n",
      "  warnings.warn(\n",
      "/opt/conda/envs/py39_ml/lib/python3.9/site-packages/sklearn/utils/validation.py:1408: DataConversionWarning: A column-vector y was passed when a 1d array was expected. Please change the shape of y to (n_samples, ), for example using ravel().\n",
      "  y = column_or_1d(y, warn=True)\n",
      "/opt/conda/envs/py39_ml/lib/python3.9/site-packages/sklearn/linear_model/_stochastic_gradient.py:1608: ConvergenceWarning: Maximum number of iteration reached before convergence. Consider increasing max_iter to improve the fit.\n",
      "  warnings.warn(\n",
      "/opt/conda/envs/py39_ml/lib/python3.9/site-packages/sklearn/utils/validation.py:1408: DataConversionWarning: A column-vector y was passed when a 1d array was expected. Please change the shape of y to (n_samples, ), for example using ravel().\n",
      "  y = column_or_1d(y, warn=True)\n",
      "/opt/conda/envs/py39_ml/lib/python3.9/site-packages/sklearn/utils/validation.py:1408: DataConversionWarning: A column-vector y was passed when a 1d array was expected. Please change the shape of y to (n_samples, ), for example using ravel().\n",
      "  y = column_or_1d(y, warn=True)\n"
     ]
    },
    {
     "name": "stdout",
     "output_type": "stream",
     "text": [
      "41: lr: (array([0.54]), 98.12399999999997) - lr_gd: (0.5447911578058869, 97.81150055065063)\n",
      "42: lr: (array([0.54]), 98.12399999999997) - lr_gd: (0.5799880561626601, 95.09325199918777)\n",
      "43: lr: (array([0.54]), 98.12399999999997) - lr_gd: (0.4052240948699366, 109.00842929062345)\n",
      "44: lr: (array([0.54]), 98.12399999999997) - lr_gd: (0.5349740700011018, 98.44625402502844)\n",
      "45: lr: (array([0.54]), 98.12399999999997) - lr_gd: (0.5850516199726625, 94.72787142923886)\n",
      "46: lr: (array([0.54]), 98.12399999999997) - lr_gd: (0.6248526636206213, 92.29014434490131)\n",
      "47: lr: (array([0.54]), 98.12399999999997) - lr_gd: (0.5480112671834856, 97.50523472209579)\n",
      "48: lr: (array([0.54]), 98.12399999999997) - lr_gd: (0.591473450515252, 95.45278328291114)\n",
      "49: lr: (array([0.54]), 98.12399999999997) - lr_gd: (0.5349831126197406, 98.44711512100494)\n"
     ]
    },
    {
     "name": "stderr",
     "output_type": "stream",
     "text": [
      "/opt/conda/envs/py39_ml/lib/python3.9/site-packages/sklearn/linear_model/_stochastic_gradient.py:1608: ConvergenceWarning: Maximum number of iteration reached before convergence. Consider increasing max_iter to improve the fit.\n",
      "  warnings.warn(\n",
      "/opt/conda/envs/py39_ml/lib/python3.9/site-packages/sklearn/utils/validation.py:1408: DataConversionWarning: A column-vector y was passed when a 1d array was expected. Please change the shape of y to (n_samples, ), for example using ravel().\n",
      "  y = column_or_1d(y, warn=True)\n",
      "/opt/conda/envs/py39_ml/lib/python3.9/site-packages/sklearn/linear_model/_stochastic_gradient.py:1608: ConvergenceWarning: Maximum number of iteration reached before convergence. Consider increasing max_iter to improve the fit.\n",
      "  warnings.warn(\n",
      "/opt/conda/envs/py39_ml/lib/python3.9/site-packages/sklearn/utils/validation.py:1408: DataConversionWarning: A column-vector y was passed when a 1d array was expected. Please change the shape of y to (n_samples, ), for example using ravel().\n",
      "  y = column_or_1d(y, warn=True)\n",
      "/opt/conda/envs/py39_ml/lib/python3.9/site-packages/sklearn/linear_model/_stochastic_gradient.py:1608: ConvergenceWarning: Maximum number of iteration reached before convergence. Consider increasing max_iter to improve the fit.\n",
      "  warnings.warn(\n",
      "/opt/conda/envs/py39_ml/lib/python3.9/site-packages/sklearn/utils/validation.py:1408: DataConversionWarning: A column-vector y was passed when a 1d array was expected. Please change the shape of y to (n_samples, ), for example using ravel().\n",
      "  y = column_or_1d(y, warn=True)\n",
      "/opt/conda/envs/py39_ml/lib/python3.9/site-packages/sklearn/linear_model/_stochastic_gradient.py:1608: ConvergenceWarning: Maximum number of iteration reached before convergence. Consider increasing max_iter to improve the fit.\n",
      "  warnings.warn(\n",
      "/opt/conda/envs/py39_ml/lib/python3.9/site-packages/sklearn/utils/validation.py:1408: DataConversionWarning: A column-vector y was passed when a 1d array was expected. Please change the shape of y to (n_samples, ), for example using ravel().\n",
      "  y = column_or_1d(y, warn=True)\n"
     ]
    }
   ],
   "source": [
    "results = []\n",
    "for i in range(50):\n",
    "    lr = LinearRegression()\n",
    "    lr_gd = SGDRegressor(max_iter=1000, learning_rate=\"adaptive\")\n",
    "    lr.fit(X, y), lr_gd.fit(X, y)\n",
    "    print(f\"{i}: lr: {lr.coef_[0], lr.intercept_[0]} - lr_gd: {lr_gd.coef_[0], lr_gd.intercept_[0]}\")\n",
    "    results.append(f\"{i}: lr: {lr.coef_[0], lr.intercept_[0]} - lr_gd: {lr_gd.coef_[0], lr_gd.intercept_[0]}\")"
   ]
  },
  {
   "cell_type": "code",
   "execution_count": null,
   "id": "569e0a6c",
   "metadata": {},
   "outputs": [],
   "source": []
  },
  {
   "cell_type": "code",
   "execution_count": 8,
   "id": "2830c3e0",
   "metadata": {},
   "outputs": [
    {
     "data": {
      "text/plain": [
       "['0: lr: (array([0.54]), 98.12399999999997) - lr_gd: (0.5217319931038612, 99.29615972412553)',\n",
       " '1: lr: (array([0.54]), 98.12399999999997) - lr_gd: (0.4206846764977948, 107.01146204236011)',\n",
       " '2: lr: (array([0.54]), 98.12399999999997) - lr_gd: (0.7122095544100764, 86.84746754646436)',\n",
       " '3: lr: (array([0.54]), 98.12399999999997) - lr_gd: (0.5253074610854781, 98.87293975197949)',\n",
       " '4: lr: (array([0.54]), 98.12399999999997) - lr_gd: (0.5600973386098383, 96.73273339926614)',\n",
       " '5: lr: (array([0.54]), 98.12399999999997) - lr_gd: (0.5349280153263718, 98.46464674142547)',\n",
       " '6: lr: (array([0.54]), 98.12399999999997) - lr_gd: (0.5499845754101778, 97.66198391960087)',\n",
       " '7: lr: (array([0.54]), 98.12399999999997) - lr_gd: (0.5094855223987672, 100.27280899583644)',\n",
       " '8: lr: (array([0.54]), 98.12399999999997) - lr_gd: (0.5168387075411764, 99.7841948144765)',\n",
       " '9: lr: (array([0.54]), 98.12399999999997) - lr_gd: (0.3437569484027322, 110.18877974928283)',\n",
       " '10: lr: (array([0.54]), 98.12399999999997) - lr_gd: (0.5339879961693088, 98.51231073679655)',\n",
       " '11: lr: (array([0.54]), 98.12399999999997) - lr_gd: (0.5466175671404978, 97.60378837774077)',\n",
       " '12: lr: (array([0.54]), 98.12399999999997) - lr_gd: (0.579414074811141, 96.04583396051672)',\n",
       " '13: lr: (array([0.54]), 98.12399999999997) - lr_gd: (0.5250278806304406, 99.02550055834305)',\n",
       " '14: lr: (array([0.54]), 98.12399999999997) - lr_gd: (0.482296281701333, 102.54095507465401)',\n",
       " '15: lr: (array([0.54]), 98.12399999999997) - lr_gd: (0.5814043819413902, 95.04944527918623)',\n",
       " '16: lr: (array([0.54]), 98.12399999999997) - lr_gd: (0.49653368179072255, 101.76600618605816)',\n",
       " '17: lr: (array([0.54]), 98.12399999999997) - lr_gd: (0.48791876261923495, 101.38351224201803)',\n",
       " '18: lr: (array([0.54]), 98.12399999999997) - lr_gd: (0.4052454858777302, 108.33708577448022)',\n",
       " '19: lr: (array([0.54]), 98.12399999999997) - lr_gd: (0.502395535023719, 100.03121417697396)',\n",
       " '20: lr: (array([0.54]), 98.12399999999997) - lr_gd: (0.5323452295159166, 98.69687829299669)',\n",
       " '21: lr: (array([0.54]), 98.12399999999997) - lr_gd: (0.6120742020071053, 93.03388839096236)',\n",
       " '22: lr: (array([0.54]), 98.12399999999997) - lr_gd: (0.5264715471657154, 99.09338889738189)',\n",
       " '23: lr: (array([0.54]), 98.12399999999997) - lr_gd: (0.44914547406002453, 103.80024896824128)',\n",
       " '24: lr: (array([0.54]), 98.12399999999997) - lr_gd: (0.42829917107075416, 105.75121340198362)',\n",
       " '25: lr: (array([0.54]), 98.12399999999997) - lr_gd: (0.5450582381666135, 97.79637507291213)',\n",
       " '26: lr: (array([0.54]), 98.12399999999997) - lr_gd: (0.5648892838946284, 96.36061039037871)',\n",
       " '27: lr: (array([0.54]), 98.12399999999997) - lr_gd: (0.5620160007529935, 96.948577175241)',\n",
       " '28: lr: (array([0.54]), 98.12399999999997) - lr_gd: (0.47652235277440186, 102.21705945027452)',\n",
       " '29: lr: (array([0.54]), 98.12399999999997) - lr_gd: (0.5345575656938416, 98.47752825083063)',\n",
       " '30: lr: (array([0.54]), 98.12399999999997) - lr_gd: (0.5448081699223051, 97.7977801359007)',\n",
       " '31: lr: (array([0.54]), 98.12399999999997) - lr_gd: (0.5053369895717852, 99.99182532107676)',\n",
       " '32: lr: (array([0.54]), 98.12399999999997) - lr_gd: (0.5449780227676359, 97.8039242415657)',\n",
       " '33: lr: (array([0.54]), 98.12399999999997) - lr_gd: (0.7854458902478113, 86.72066758986163)',\n",
       " '34: lr: (array([0.54]), 98.12399999999997) - lr_gd: (0.5349528399708602, 98.44982039316588)',\n",
       " '35: lr: (array([0.54]), 98.12399999999997) - lr_gd: (0.261347244675457, 113.37156548082532)',\n",
       " '36: lr: (array([0.54]), 98.12399999999997) - lr_gd: (0.5450007320949263, 97.79659143060992)',\n",
       " '37: lr: (array([0.54]), 98.12399999999997) - lr_gd: (0.5048231018583185, 100.77039103839212)',\n",
       " '38: lr: (array([0.54]), 98.12399999999997) - lr_gd: (0.5458673050741203, 97.75021772015307)',\n",
       " '39: lr: (array([0.54]), 98.12399999999997) - lr_gd: (0.3602648671102396, 108.1060013379359)',\n",
       " '40: lr: (array([0.54]), 98.12399999999997) - lr_gd: (0.5457942338188913, 97.77913886451812)',\n",
       " '41: lr: (array([0.54]), 98.12399999999997) - lr_gd: (0.5447911578058869, 97.81150055065063)',\n",
       " '42: lr: (array([0.54]), 98.12399999999997) - lr_gd: (0.5799880561626601, 95.09325199918777)',\n",
       " '43: lr: (array([0.54]), 98.12399999999997) - lr_gd: (0.4052240948699366, 109.00842929062345)',\n",
       " '44: lr: (array([0.54]), 98.12399999999997) - lr_gd: (0.5349740700011018, 98.44625402502844)',\n",
       " '45: lr: (array([0.54]), 98.12399999999997) - lr_gd: (0.5850516199726625, 94.72787142923886)',\n",
       " '46: lr: (array([0.54]), 98.12399999999997) - lr_gd: (0.6248526636206213, 92.29014434490131)',\n",
       " '47: lr: (array([0.54]), 98.12399999999997) - lr_gd: (0.5480112671834856, 97.50523472209579)',\n",
       " '48: lr: (array([0.54]), 98.12399999999997) - lr_gd: (0.591473450515252, 95.45278328291114)',\n",
       " '49: lr: (array([0.54]), 98.12399999999997) - lr_gd: (0.5349831126197406, 98.44711512100494)']"
      ]
     },
     "execution_count": 8,
     "metadata": {},
     "output_type": "execute_result"
    }
   ],
   "source": [
    "results"
   ]
  },
  {
   "cell_type": "code",
   "execution_count": null,
   "id": "5c6c043e",
   "metadata": {},
   "outputs": [],
   "source": []
  }
 ],
 "metadata": {
  "kernelspec": {
   "display_name": "py39_ml",
   "language": "python",
   "name": "python3"
  },
  "language_info": {
   "codemirror_mode": {
    "name": "ipython",
    "version": 3
   },
   "file_extension": ".py",
   "mimetype": "text/x-python",
   "name": "python",
   "nbconvert_exporter": "python",
   "pygments_lexer": "ipython3",
   "version": "3.9.23"
  }
 },
 "nbformat": 4,
 "nbformat_minor": 5
}
