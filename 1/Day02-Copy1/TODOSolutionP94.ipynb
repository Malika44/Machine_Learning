{
 "cells": [
  {
   "cell_type": "markdown",
   "id": "6f9842f9-73c6-4ab9-be7e-5e513757c441",
   "metadata": {},
   "source": [
    "TO DO exercise"
   ]
  },
  {
   "cell_type": "code",
   "execution_count": 27,
   "id": "cf697a8c-3e50-467c-a7d9-49ff56ad04bc",
   "metadata": {},
   "outputs": [],
   "source": [
    "#Create synthetic/dummy data\n",
    "#first import the libraries \n",
    "import numpy as np\n",
    "import pandas as pd\n",
    "import matplotlib.pyplot as plt\n",
    "from sklearn.linear_model import LinearRegression\n",
    "from sklearn.model_selection import train_test_split"
   ]
  },
  {
   "cell_type": "code",
   "execution_count": 28,
   "id": "37007d8e-06e2-48ad-82a6-235e234d0d98",
   "metadata": {},
   "outputs": [],
   "source": [
    "#• Create synthetic/dummy data here I take Housing Prices Dataset as a refernce\n",
    "ns = 100\n",
    "house_size = np.random.normal(2000, 500, ns)\n",
    "location = np.random.uniform(1, 10 , ns)#the higher means better location (near to 10)\n",
    "house_age = np.random.exponential(15, ns)\n",
    "#create target variable based on the features above\n",
    "basePrice = 100000\n",
    "size_effect = house_size * 120  \n",
    "location_effect = location * 25000 \n",
    "age_effect = house_age * 2000 \n",
    "noise = np.random.normal(0, 30000, ns)  # Random noise Beacause we want a close to real data\n",
    "\n",
    "house_price = basePrice + size_effect + location_effect - age_effect + noise"
   ]
  },
  {
   "cell_type": "code",
   "execution_count": 29,
   "id": "4dec01f9-2f29-4c41-899b-59931182fb07",
   "metadata": {},
   "outputs": [
    {
     "data": {
      "text/html": [
       "<div>\n",
       "<style scoped>\n",
       "    .dataframe tbody tr th:only-of-type {\n",
       "        vertical-align: middle;\n",
       "    }\n",
       "\n",
       "    .dataframe tbody tr th {\n",
       "        vertical-align: top;\n",
       "    }\n",
       "\n",
       "    .dataframe thead th {\n",
       "        text-align: right;\n",
       "    }\n",
       "</style>\n",
       "<table border=\"1\" class=\"dataframe\">\n",
       "  <thead>\n",
       "    <tr style=\"text-align: right;\">\n",
       "      <th></th>\n",
       "      <th>house_size</th>\n",
       "      <th>location_score</th>\n",
       "      <th>house_age</th>\n",
       "      <th>price</th>\n",
       "    </tr>\n",
       "  </thead>\n",
       "  <tbody>\n",
       "    <tr>\n",
       "      <th>0</th>\n",
       "      <td>2217.925566</td>\n",
       "      <td>8.871188</td>\n",
       "      <td>35.906773</td>\n",
       "      <td>496005.907924</td>\n",
       "    </tr>\n",
       "    <tr>\n",
       "      <th>1</th>\n",
       "      <td>2090.344870</td>\n",
       "      <td>2.643421</td>\n",
       "      <td>1.811011</td>\n",
       "      <td>427971.873005</td>\n",
       "    </tr>\n",
       "    <tr>\n",
       "      <th>2</th>\n",
       "      <td>2031.600864</td>\n",
       "      <td>8.881564</td>\n",
       "      <td>11.035579</td>\n",
       "      <td>535433.097779</td>\n",
       "    </tr>\n",
       "    <tr>\n",
       "      <th>3</th>\n",
       "      <td>2859.588912</td>\n",
       "      <td>9.954791</td>\n",
       "      <td>7.141988</td>\n",
       "      <td>727089.518245</td>\n",
       "    </tr>\n",
       "    <tr>\n",
       "      <th>4</th>\n",
       "      <td>2300.586044</td>\n",
       "      <td>8.039940</td>\n",
       "      <td>27.527385</td>\n",
       "      <td>532644.801760</td>\n",
       "    </tr>\n",
       "    <tr>\n",
       "      <th>...</th>\n",
       "      <td>...</td>\n",
       "      <td>...</td>\n",
       "      <td>...</td>\n",
       "      <td>...</td>\n",
       "    </tr>\n",
       "    <tr>\n",
       "      <th>95</th>\n",
       "      <td>1512.932698</td>\n",
       "      <td>5.518302</td>\n",
       "      <td>10.005133</td>\n",
       "      <td>428802.400579</td>\n",
       "    </tr>\n",
       "    <tr>\n",
       "      <th>96</th>\n",
       "      <td>2477.208600</td>\n",
       "      <td>2.419295</td>\n",
       "      <td>6.337327</td>\n",
       "      <td>386986.658597</td>\n",
       "    </tr>\n",
       "    <tr>\n",
       "      <th>97</th>\n",
       "      <td>2474.408454</td>\n",
       "      <td>6.050586</td>\n",
       "      <td>7.861383</td>\n",
       "      <td>562052.034696</td>\n",
       "    </tr>\n",
       "    <tr>\n",
       "      <th>98</th>\n",
       "      <td>1342.175431</td>\n",
       "      <td>2.748892</td>\n",
       "      <td>5.208715</td>\n",
       "      <td>324710.827573</td>\n",
       "    </tr>\n",
       "    <tr>\n",
       "      <th>99</th>\n",
       "      <td>2483.330300</td>\n",
       "      <td>1.468397</td>\n",
       "      <td>39.324238</td>\n",
       "      <td>332712.727231</td>\n",
       "    </tr>\n",
       "  </tbody>\n",
       "</table>\n",
       "<p>100 rows × 4 columns</p>\n",
       "</div>"
      ],
      "text/plain": [
       "     house_size  location_score  house_age          price\n",
       "0   2217.925566        8.871188  35.906773  496005.907924\n",
       "1   2090.344870        2.643421   1.811011  427971.873005\n",
       "2   2031.600864        8.881564  11.035579  535433.097779\n",
       "3   2859.588912        9.954791   7.141988  727089.518245\n",
       "4   2300.586044        8.039940  27.527385  532644.801760\n",
       "..          ...             ...        ...            ...\n",
       "95  1512.932698        5.518302  10.005133  428802.400579\n",
       "96  2477.208600        2.419295   6.337327  386986.658597\n",
       "97  2474.408454        6.050586   7.861383  562052.034696\n",
       "98  1342.175431        2.748892   5.208715  324710.827573\n",
       "99  2483.330300        1.468397  39.324238  332712.727231\n",
       "\n",
       "[100 rows x 4 columns]"
      ]
     },
     "execution_count": 29,
     "metadata": {},
     "output_type": "execute_result"
    }
   ],
   "source": [
    "# Create DataFrame\n",
    "data = pd.DataFrame({\n",
    "    'house_size': house_size,\n",
    "    'location_score': location,\n",
    "    'house_age': house_age,\n",
    "    'price': house_price\n",
    "})\n",
    "data"
   ]
  },
  {
   "cell_type": "code",
   "execution_count": 30,
   "id": "01fbe08d-a15e-47a1-9be5-9714986131fc",
   "metadata": {},
   "outputs": [
    {
     "name": "stdout",
     "output_type": "stream",
     "text": [
      "109087.86224719317\n",
      "[  113.85513253 26040.51669766 -2046.46956152]\n"
     ]
    }
   ],
   "source": [
    "X = data[['house_size', 'location_score', 'house_age']]\n",
    "y = data['price']\n",
    "#FIT LINEAR REGRESSION MODEL\n",
    "model = LinearRegression()\n",
    "model.fit(X, y)\n",
    "#I assume that I' making predicting the price based on house size only\n",
    "print(model.intercept_)\n",
    "print(model.coef_)# here we get 3 coff 1- for the size increaese ofc pricr increase , 2- location same concept, 3- age same concept"
   ]
  },
  {
   "cell_type": "code",
   "execution_count": 31,
   "id": "603090e5-828d-4742-b673-5eb154dc6c64",
   "metadata": {},
   "outputs": [],
   "source": [
    "#here i want to predict taking into consider only the size feature \n",
    "X_size = X[['house_size']]\n",
    "model1 = LinearRegression()\n",
    "model1.fit(X_size, y)\n",
    "new_X = np.linspace(X_size.min(), X_size.max(), 100)\n",
    "new_X1 = pd.DataFrame({'house_size': house_size})\n",
    "y_hat = model1.predict(new_X1)"
   ]
  },
  {
   "cell_type": "code",
   "execution_count": 32,
   "id": "a1e47da2-d807-4d1d-a1e2-628a30736ffa",
   "metadata": {},
   "outputs": [
    {
     "name": "stdout",
     "output_type": "stream",
     "text": [
      "198161.71290196138\n",
      "[119.84034203]\n"
     ]
    }
   ],
   "source": [
    "print(model1.intercept_)\n",
    "print(model1.coef_)"
   ]
  },
  {
   "cell_type": "code",
   "execution_count": 33,
   "id": "8cd278c7-4fb4-487c-b9f6-107d54233e44",
   "metadata": {},
   "outputs": [
    {
     "data": {
      "text/plain": [
       "[<matplotlib.lines.Line2D at 0x7d951cf360d0>]"
      ]
     },
     "execution_count": 33,
     "metadata": {},
     "output_type": "execute_result"
    },
    {
     "data": {
      "image/png": "[encoded data removed]",
      "text/plain": [
       "<Figure size 640x480 with 1 Axes>"
      ]
     },
     "metadata": {},
     "output_type": "display_data"
    }
   ],
   "source": [
    "plt.scatter(X_size, y, color=\"red\",marker=\"+\")\n",
    "plt.plot(new_X1, y_hat)"
   ]
  },
  {
   "cell_type": "code",
   "execution_count": 34,
   "id": "e26e7249-a5cc-4058-b5b3-50489eddffc2",
   "metadata": {},
   "outputs": [],
   "source": []
  },
  {
   "cell_type": "code",
   "execution_count": null,
   "id": "ad8789ec-8a3e-46a0-bdc8-aa8576b8386a",
   "metadata": {},
   "outputs": [],
   "source": []
  }
 ],
 "metadata": {
  "kernelspec": {
   "display_name": "(00) Python 3.9 - ML",
   "language": "python",
   "name": "py39_ml"
  },
  "language_info": {
   "codemirror_mode": {
    "name": "ipython",
    "version": 3
   },
   "file_extension": ".py",
   "mimetype": "text/x-python",
   "name": "python",
   "nbconvert_exporter": "python",
   "pygments_lexer": "ipython3",
   "version": "3.9.23"
  }
 },
 "nbformat": 4,
 "nbformat_minor": 5
}
