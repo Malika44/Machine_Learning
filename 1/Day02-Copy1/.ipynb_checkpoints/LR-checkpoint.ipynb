{
 "cells": [
  {
   "cell_type": "code",
   "execution_count": 4,
   "id": "4a65f650-0a02-4b50-8221-be79902085fc",
   "metadata": {},
   "outputs": [],
   "source": [
    "import pandas as pd\n",
    "import random\n",
    "import matplotlib.pyplot as plt\n",
    "from graphviz import Digraph\n",
    "from IPython.display import display, Image\n",
    "from sklearn.linear_model import LinearRegression\n",
    "import matplotlib.pyplot as plt\n",
    "import numpy as np\n",
    "import os\n",
    "from sklearn.metrics import mean_squared_error\n",
    "import plotly.io as pio\n",
    "pio .renderers.default = 'iframe'"
   ]
  },
  {
   "cell_type": "markdown",
   "id": "28aa3f8f-4d4d-4d86-832e-feab7b5fbd3e",
   "metadata": {},
   "source": [
    "**Create Dummy Data**"
   ]
  },
  {
   "cell_type": "code",
   "execution_count": null,
   "id": "2500d837-d81c-400e-8a2e-bb3811e1faeb",
   "metadata": {},
   "outputs": [],
   "source": [
    "def create_synthetic_data():\n",
    "    days = ['Monday', 'Tuesday', 'Wednesday', 'Thursday', 'Friday', 'Saturday', 'Sunday']\n",
    "    times = ['Morning', 'Afternoon', 'Evening', 'Night']\n",
    "    data = {\n",
    "        'Road Condition': [],\n",
    "        'Weather Condition': [],\n",
    "        'Day of the Week': [],\n",
    "        'Time of Day': [],\n",
    "        'Number of Lanes': [],\n",
    "        'Travel Time': []\n",
    "    }\n",
    "\n",
    "    for _ in range(100):\n",
    "        day = random.choice(days)\n",
    "        time = random.choice(times)\n",
    "        weather = random.choice([0, 1])  # 0: Clear, 1: Rainy\n",
    "        lanes = random.randint(1, 5)\n",
    "        road_condition = random.randint(1, 3)\n",
    "\n",
    "        # Base travel time\n",
    "        travel_time = 30\n",
    "\n",
    "        # Adjust for weekend\n",
    "        if day in ['Friday', 'Saturday']:\n",
    "            travel_time -= 5\n",
    "\n",
    "        # Adjust for weather\n",
    "        if weather == 1:\n",
    "            travel_time += 10\n",
    "\n",
    "        # Adjust for time of day\n",
    "        if time in ['Morning', 'Afternoon']:\n",
    "            travel_time += 15\n",
    "\n",
    "        # Adjust for number of lanes\n",
    "        travel_time += lanes * 5\n",
    "\n",
    "        # Add some randomness\n",
    "        travel_time += random.randint(-5, 5)\n",
    "\n",
    "        data['Road Condition'].append(road_condition)\n",
    "        data['Weather Condition'].append(weather)\n",
    "        data['Day of the Week'].append(day)\n",
    "        data['Time of Day'].append(time)\n",
    "        data['Number of Lanes'].append(lanes)\n",
    "        data['Travel Time'].append(travel_time)\n",
    "\n",
    "    return pd.DataFrame(data)"
   ]
  },
  {
   "cell_type": "code",
   "execution_count": null,
   "id": "3cd8b6c1-07e8-4331-b42a-842e199dff9d",
   "metadata": {},
   "outputs": [],
   "source": [
    "df_new = create_synthetic_data()"
   ]
  },
  {
   "cell_type": "code",
   "execution_count": null,
   "id": "e93473e7-95ad-4afe-97fd-8e4957762096",
   "metadata": {},
   "outputs": [],
   "source": []
  }
 ],
 "metadata": {
  "kernelspec": {
   "display_name": "(00) Python 3.9 - ML",
   "language": "python",
   "name": "py39_ml"
  },
  "language_info": {
   "codemirror_mode": {
    "name": "ipython",
    "version": 3
   },
   "file_extension": ".py",
   "mimetype": "text/x-python",
   "name": "python",
   "nbconvert_exporter": "python",
   "pygments_lexer": "ipython3",
   "version": "3.9.23"
  }
 },
 "nbformat": 4,
 "nbformat_minor": 5
}
