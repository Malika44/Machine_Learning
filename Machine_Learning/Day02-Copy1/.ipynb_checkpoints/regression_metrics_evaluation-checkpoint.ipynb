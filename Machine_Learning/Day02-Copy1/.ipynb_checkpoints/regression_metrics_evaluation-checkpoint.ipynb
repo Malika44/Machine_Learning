{
 "cells": [
  {
   "cell_type": "markdown",
   "id": "721eb863",
   "metadata": {},
   "source": [
    "# Regression Model Evaluation Metrics\n",
    "This notebook demonstrates how to calculate and interpret the following regression evaluation metrics using sklearn:\n",
    "- Mean Absolute Error (MAE)\n",
    "- Mean Squared Error (MSE)\n",
    "- R-squared (R2)\n",
    "- Adjusted R-squared"
   ]
  },
  {
   "cell_type": "code",
   "execution_count": 1,
   "id": "1c4beaed",
   "metadata": {},
   "outputs": [],
   "source": [
    "# Import necessary libraries\n",
    "import numpy as np\n",
    "from sklearn.metrics import mean_absolute_error, mean_squared_error, r2_score\n",
    "from sklearn.linear_model import LinearRegression\n",
    "from sklearn.model_selection import train_test_split"
   ]
  },
  {
   "cell_type": "markdown",
   "id": "8b6eda75",
   "metadata": {},
   "source": [
    "## Generate Sample Data"
   ]
  },
  {
   "cell_type": "code",
   "execution_count": 9,
   "id": "3726e60d",
   "metadata": {},
   "outputs": [],
   "source": [
    "# Generate dummy data\n",
    "np.random.seed(42)\n",
    "X = np.random.rand(100, 1) * 10  # Features (Independent variable)\n",
    "y = 3 * X.squeeze() + np.random.randn(100) * 2  # Target with some noise (Dependent variable)"
   ]
  },
  {
   "cell_type": "code",
   "execution_count": 8,
   "id": "b58d5f2a",
   "metadata": {},
   "outputs": [
    {
     "data": {
      "text/plain": [
       "((100, 1), (100,))"
      ]
     },
     "execution_count": 8,
     "metadata": {},
     "output_type": "execute_result"
    }
   ],
   "source": [
    "X.shape, y.shape"
   ]
  },
  {
   "cell_type": "code",
   "execution_count": 10,
   "id": "2fca9707",
   "metadata": {},
   "outputs": [],
   "source": [
    "# Split the data into training and testing sets\n",
    "X_train, X_test, y_train, y_test = train_test_split(X, y, test_size=0.2, random_state=42)"
   ]
  },
  {
   "cell_type": "markdown",
   "id": "364f6ec1",
   "metadata": {},
   "source": [
    "## Train a Simple Linear Regression Model"
   ]
  },
  {
   "cell_type": "code",
   "execution_count": 3,
   "id": "ac15d9f7",
   "metadata": {},
   "outputs": [],
   "source": [
    "# Train a linear regression model\n",
    "model = LinearRegression()\n",
    "model.fit(X_train, y_train)\n",
    "\n",
    "# Make predictions\n",
    "y_pred = model.predict(X_test)"
   ]
  },
  {
   "cell_type": "markdown",
   "id": "1186517c",
   "metadata": {},
   "source": [
    "## Mean Absolute Error (MAE)\n",
    "The MAE measures the average magnitude of the errors in a set of predictions, without considering their direction."
   ]
  },
  {
   "cell_type": "code",
   "execution_count": 4,
   "id": "79d02731",
   "metadata": {},
   "outputs": [
    {
     "name": "stdout",
     "output_type": "stream",
     "text": [
      "Mean Absolute Error (MAE): 1.18\n"
     ]
    }
   ],
   "source": [
    "# Calculate Mean Absolute Error\n",
    "mae = mean_absolute_error(y_test, y_pred)\n",
    "print(f\"Mean Absolute Error (MAE): {mae:.2f}\")"
   ]
  },
  {
   "cell_type": "markdown",
   "id": "bc01de05",
   "metadata": {},
   "source": [
    "## Mean Squared Error (MSE)\n",
    "The MSE measures the average of the squares of the errors—that is, the average squared difference between the estimated values and the actual value."
   ]
  },
  {
   "cell_type": "code",
   "execution_count": 5,
   "id": "e1cdd878",
   "metadata": {},
   "outputs": [
    {
     "name": "stdout",
     "output_type": "stream",
     "text": [
      "Mean Squared Error (MSE): 2.61\n"
     ]
    }
   ],
   "source": [
    "# Calculate Mean Squared Error\n",
    "mse = mean_squared_error(y_test, y_pred)\n",
    "print(f\"Mean Squared Error (MSE): {mse:.2f}\")"
   ]
  },
  {
   "cell_type": "markdown",
   "id": "e7ece848",
   "metadata": {},
   "source": [
    "## R-squared (R2)\n",
    "The R2 score represents the proportion of the variance for the dependent variable that's explained by the independent variables in the model."
   ]
  },
  {
   "cell_type": "code",
   "execution_count": 6,
   "id": "658503e4",
   "metadata": {},
   "outputs": [
    {
     "name": "stdout",
     "output_type": "stream",
     "text": [
      "R-squared (R2): 0.97\n"
     ]
    }
   ],
   "source": [
    "# Calculate R-squared\n",
    "r2 = r2_score(y_test, y_pred)\n",
    "print(f\"R-squared (R2): {r2:.2f}\")"
   ]
  },
  {
   "cell_type": "markdown",
   "id": "227d0eb9",
   "metadata": {},
   "source": [
    "## Adjusted R-squared\n",
    "The Adjusted R2 adjusts the R2 value based on the number of predictors in the model, providing a more accurate measure for multiple regression models."
   ]
  },
  {
   "cell_type": "code",
   "execution_count": 7,
   "id": "c4f569db",
   "metadata": {},
   "outputs": [
    {
     "name": "stdout",
     "output_type": "stream",
     "text": [
      "Adjusted R-squared: 0.97\n"
     ]
    }
   ],
   "source": [
    "# Calculate Adjusted R-squared\n",
    "n = len(y_test)  # Number of observations\n",
    "p = X_test.shape[1]  # Number of predictors\n",
    "adjusted_r2 = 1 - (1 - r2) * (n - 1) / (n - p - 1)\n",
    "print(f\"Adjusted R-squared: {adjusted_r2:.2f}\")"
   ]
  },
  {
   "cell_type": "code",
   "execution_count": null,
   "id": "c699c0d5",
   "metadata": {},
   "outputs": [],
   "source": []
  }
 ],
 "metadata": {
  "kernelspec": {
   "display_name": "py39_base",
   "language": "python",
   "name": "python3"
  },
  "language_info": {
   "codemirror_mode": {
    "name": "ipython",
    "version": 3
   },
   "file_extension": ".py",
   "mimetype": "text/x-python",
   "name": "python",
   "nbconvert_exporter": "python",
   "pygments_lexer": "ipython3",
   "version": "3.9.21"
  }
 },
 "nbformat": 4,
 "nbformat_minor": 5
}
